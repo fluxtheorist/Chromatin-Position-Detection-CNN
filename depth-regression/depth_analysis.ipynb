{
 "cells": [
  {
   "cell_type": "code",
   "execution_count": 9,
   "metadata": {},
   "outputs": [],
   "source": [
    "data_dir = 'data/vortex/2020-08-16/200nm_0_25_um_step/200nm_0_25_um_stepB/'\n",
    "validation_dir='data/vortex/2020-08-16/200nm_0_25_um_step/200nm_0_25_um_stepC/'\n",
    "validation_cut = 0.2\n",
    "fov = 0.33"
   ]
  },
  {
   "cell_type": "code",
   "execution_count": 10,
   "metadata": {},
   "outputs": [],
   "source": [
    "import math\n",
    "def foveate(image, fov = fov):\n",
    "    if not fov:\n",
    "        return image\n",
    "    centerx = image[1].shape[1]/2\n",
    "    centery = image[1].shape[2]/2\n",
    "    fov_pos = []\n",
    "    for x,y in image[0]['XY']:\n",
    "        if (math.sqrt((x-centerx)**2+(y-centery)**2) < fov * math.sqrt(centerx**2+centery**2)):\n",
    "            fov_pos.append([x,y])\n",
    "    image[0]['XY'] = fov_pos\n",
    "    return image"
   ]
  },
  {
   "cell_type": "code",
   "execution_count": 11,
   "metadata": {},
   "outputs": [
    {
     "name": "stdout",
     "output_type": "stream",
     "text": [
      "Indexing data directory\n"
     ]
    },
    {
     "ename": "FileNotFoundError",
     "evalue": "[Errno 2] No such file or directory: 'data/vortex/2020-08-16/200nm_0_25_um_step/200nm_0_25_um_stepB/'",
     "output_type": "error",
     "traceback": [
      "\u001b[0;31m---------------------------------------------------------------------------\u001b[0m",
      "\u001b[0;31mFileNotFoundError\u001b[0m                         Traceback (most recent call last)",
      "\u001b[0;32m/var/folders/jm/v16vhtnj3y96ph2nqnf24gmw0000gn/T/ipykernel_14394/543936373.py\u001b[0m in \u001b[0;36m<module>\u001b[0;34m\u001b[0m\n\u001b[1;32m     10\u001b[0m \u001b[0mimages\u001b[0m \u001b[0;34m=\u001b[0m \u001b[0;34m[\u001b[0m\u001b[0;34m]\u001b[0m\u001b[0;34m\u001b[0m\u001b[0;34m\u001b[0m\u001b[0m\n\u001b[1;32m     11\u001b[0m \u001b[0;34m\u001b[0m\u001b[0m\n\u001b[0;32m---> 12\u001b[0;31m \u001b[0;32mfor\u001b[0m \u001b[0mfilename\u001b[0m \u001b[0;32min\u001b[0m \u001b[0mos\u001b[0m\u001b[0;34m.\u001b[0m\u001b[0mlistdir\u001b[0m\u001b[0;34m(\u001b[0m\u001b[0mdata_dir\u001b[0m\u001b[0;34m)\u001b[0m\u001b[0;34m:\u001b[0m\u001b[0;34m\u001b[0m\u001b[0;34m\u001b[0m\u001b[0m\n\u001b[0m\u001b[1;32m     13\u001b[0m     \u001b[0;32mif\u001b[0m \u001b[0mfilename\u001b[0m\u001b[0;34m.\u001b[0m\u001b[0mendswith\u001b[0m\u001b[0;34m(\u001b[0m\u001b[0;34m\".tif\"\u001b[0m\u001b[0;34m)\u001b[0m \u001b[0;32mand\u001b[0m\u001b[0;31m \u001b[0m\u001b[0;31m\\\u001b[0m\u001b[0;34m\u001b[0m\u001b[0;34m\u001b[0m\u001b[0m\n\u001b[1;32m     14\u001b[0m     \u001b[0mos\u001b[0m\u001b[0;34m.\u001b[0m\u001b[0mpath\u001b[0m\u001b[0;34m.\u001b[0m\u001b[0misfile\u001b[0m\u001b[0;34m(\u001b[0m\u001b[0mos\u001b[0m\u001b[0;34m.\u001b[0m\u001b[0mpath\u001b[0m\u001b[0;34m.\u001b[0m\u001b[0mjoin\u001b[0m\u001b[0;34m(\u001b[0m\u001b[0mdata_dir\u001b[0m\u001b[0;34m,\u001b[0m \u001b[0mfilename\u001b[0m \u001b[0;34m+\u001b[0m\u001b[0;34m'.json'\u001b[0m\u001b[0;34m)\u001b[0m\u001b[0;34m)\u001b[0m\u001b[0;34m:\u001b[0m\u001b[0;34m\u001b[0m\u001b[0;34m\u001b[0m\u001b[0m\n",
      "\u001b[0;31mFileNotFoundError\u001b[0m: [Errno 2] No such file or directory: 'data/vortex/2020-08-16/200nm_0_25_um_step/200nm_0_25_um_stepB/'"
     ]
    }
   ],
   "source": [
    "# Load training data\n",
    "import matplotlib.pyplot as plt\n",
    "import os\n",
    "import numpy as np\n",
    "import json\n",
    "from skimage import io\n",
    "\n",
    "print(\"Indexing data directory\")\n",
    "\n",
    "images = []\n",
    "\n",
    "for filename in os.listdir(data_dir):\n",
    "    if filename.endswith(\".tif\") and \\\n",
    "    os.path.isfile(os.path.join(data_dir, filename +'.json')):\n",
    "        \n",
    "        img = io.imread(os.path.join(data_dir, filename))\n",
    "        with open(os.path.join(data_dir, filename +'.json'), 'r') as fp:\n",
    "            d = json.load(fp)\n",
    "        images.append(foveate([d, img]))\n",
    "        \n",
    "        print(\"Loaded \" + filename)"
   ]
  },
  {
   "cell_type": "code",
   "execution_count": 12,
   "metadata": {},
   "outputs": [
    {
     "name": "stdout",
     "output_type": "stream",
     "text": [
      "Indexing validation data directory\n"
     ]
    },
    {
     "ename": "FileNotFoundError",
     "evalue": "[Errno 2] No such file or directory: 'data/vortex/2020-08-16/200nm_0_25_um_step/200nm_0_25_um_stepC/'",
     "output_type": "error",
     "traceback": [
      "\u001b[0;31m---------------------------------------------------------------------------\u001b[0m",
      "\u001b[0;31mFileNotFoundError\u001b[0m                         Traceback (most recent call last)",
      "\u001b[0;32m/var/folders/jm/v16vhtnj3y96ph2nqnf24gmw0000gn/T/ipykernel_14394/2187960886.py\u001b[0m in \u001b[0;36m<module>\u001b[0;34m\u001b[0m\n\u001b[1;32m      8\u001b[0m     \u001b[0mprint\u001b[0m\u001b[0;34m(\u001b[0m\u001b[0;34m\"Indexing validation data directory\"\u001b[0m\u001b[0;34m)\u001b[0m\u001b[0;34m\u001b[0m\u001b[0;34m\u001b[0m\u001b[0m\n\u001b[1;32m      9\u001b[0m \u001b[0;34m\u001b[0m\u001b[0m\n\u001b[0;32m---> 10\u001b[0;31m     \u001b[0;32mfor\u001b[0m \u001b[0mfilename\u001b[0m \u001b[0;32min\u001b[0m \u001b[0mos\u001b[0m\u001b[0;34m.\u001b[0m\u001b[0mlistdir\u001b[0m\u001b[0;34m(\u001b[0m\u001b[0mvalidation_dir\u001b[0m\u001b[0;34m)\u001b[0m\u001b[0;34m:\u001b[0m\u001b[0;34m\u001b[0m\u001b[0;34m\u001b[0m\u001b[0m\n\u001b[0m\u001b[1;32m     11\u001b[0m         \u001b[0;32mif\u001b[0m \u001b[0mfilename\u001b[0m\u001b[0;34m.\u001b[0m\u001b[0mendswith\u001b[0m\u001b[0;34m(\u001b[0m\u001b[0;34m\".tif\"\u001b[0m\u001b[0;34m)\u001b[0m \u001b[0;32mand\u001b[0m\u001b[0;31m \u001b[0m\u001b[0;31m\\\u001b[0m\u001b[0;34m\u001b[0m\u001b[0;34m\u001b[0m\u001b[0m\n\u001b[1;32m     12\u001b[0m         \u001b[0mos\u001b[0m\u001b[0;34m.\u001b[0m\u001b[0mpath\u001b[0m\u001b[0;34m.\u001b[0m\u001b[0misfile\u001b[0m\u001b[0;34m(\u001b[0m\u001b[0mos\u001b[0m\u001b[0;34m.\u001b[0m\u001b[0mpath\u001b[0m\u001b[0;34m.\u001b[0m\u001b[0mjoin\u001b[0m\u001b[0;34m(\u001b[0m\u001b[0mvalidation_dir\u001b[0m\u001b[0;34m,\u001b[0m \u001b[0mfilename\u001b[0m \u001b[0;34m+\u001b[0m\u001b[0;34m'.json'\u001b[0m\u001b[0;34m)\u001b[0m\u001b[0;34m)\u001b[0m\u001b[0;34m:\u001b[0m\u001b[0;34m\u001b[0m\u001b[0;34m\u001b[0m\u001b[0m\n",
      "\u001b[0;31mFileNotFoundError\u001b[0m: [Errno 2] No such file or directory: 'data/vortex/2020-08-16/200nm_0_25_um_step/200nm_0_25_um_stepC/'"
     ]
    }
   ],
   "source": [
    "import random\n",
    "import copy\n",
    "\n",
    "validationimages = []\n",
    "\n",
    "if validation_dir:\n",
    "\n",
    "    print(\"Indexing validation data directory\")\n",
    "\n",
    "    for filename in os.listdir(validation_dir):\n",
    "        if filename.endswith(\".tif\") and \\\n",
    "        os.path.isfile(os.path.join(validation_dir, filename +'.json')):\n",
    "\n",
    "            validationimg = io.imread(os.path.join(validation_dir, filename))\n",
    "            with open(os.path.join(validation_dir, filename +'.json'), 'r') as fp:\n",
    "                d = json.load(fp)\n",
    "            validationimages.append([d, validationimg])\n",
    "            print(\"Loaded \" + filename)\n",
    "else:\n",
    "    print(\"Doing train/test split\")\n",
    "    ntrain = 0\n",
    "    ntest = 0\n",
    "    for i in range(len(images)):\n",
    "        train = []\n",
    "        test = []\n",
    "        shuffled = images[i][0]['XY']\n",
    "        random.shuffle(shuffled)\n",
    "        frac = int(math.ceil(len(shuffled)*validation_cut))\n",
    "        test = shuffled[:frac]\n",
    "        ntest += len(test)\n",
    "        train = shuffled[frac:]\n",
    "        ntrain += len(train)\n",
    "        valimg = copy.deepcopy(images[i])\n",
    "        images[i][0]['XY'] = train\n",
    "        valimg[0]['XY'] = test\n",
    "        validationimages.append(valimg)\n",
    "    print(\"Total of {} training, {} testing spots...\".format(ntrain, ntest))\n",
    "        "
   ]
  },
  {
   "cell_type": "code",
   "execution_count": 13,
   "metadata": {},
   "outputs": [],
   "source": [
    "def tile_generator(images,bs, input_size, shift, shuffle = True):\n",
    "    if shift<1:\n",
    "        shift = int(input_size*shift)\n",
    "        \n",
    "    n_stacks = len(images)\n",
    "    c_stack = c_spot = c_depth = 0\n",
    "    \n",
    "    while True:\n",
    "        inputs = []\n",
    "        targets = []\n",
    "        while len(inputs) < bs:\n",
    "            if shuffle:\n",
    "                stack = random.choice(images)\n",
    "                X, Y = random.choice(stack[0]['XY'])\n",
    "                c = random.choice(list(stack[0]['Z'].items()))\n",
    "                imgnum = int(c[0])\n",
    "                Z = float(c[1])\n",
    "            else:\n",
    "                stack = images[c_stack]\n",
    "                X, Y = stack[0]['XY'][c_spot]\n",
    "                c = list(stack[0]['Z'].items())[c_depth]\n",
    "                imgnum = int(c[0])\n",
    "                Z = float(c[1])\n",
    "                \n",
    "                n_spots = len(stack[0]['XY'])\n",
    "                n_depths = len(stack[0]['Z'])\n",
    "                \n",
    "                c_depth += 1\n",
    "                \n",
    "                # Move to next spot if all depths have been consumed\n",
    "                if c_depth == n_depths:\n",
    "                    c_depth = 0\n",
    "                    c_spot += 1\n",
    "                    \n",
    "                    # Move to next stack if all spots have been consumed\n",
    "                    if c_spot == n_spots:\n",
    "                        c_spot = 0\n",
    "                        c_stack += 1\n",
    "                        \n",
    "                        # Start a new epoch if all stacks have been consumed\n",
    "                        if c_stack == n_stacks:\n",
    "                            c_stack = 0\n",
    "            \n",
    "            xcrop, ycrop = tuple(int(p + random.uniform(-1*shift, shift)) for p in (X, Y))\n",
    "            img = stack[1][imgnum][ycrop-input_size//2:ycrop+(input_size-input_size//2), \\\n",
    "                                  xcrop-input_size//2:xcrop+(input_size-input_size//2)]\n",
    "            \n",
    "            x_train = (X - (xcrop-input_size//2))/input_size\n",
    "            y_train = (Y - (ycrop-input_size//2))/input_size\n",
    "            z_vals = [float(v) for v in list(stack[0]['Z'].values())]\n",
    "            z_train = (Z - min(z_vals)) / ((max(z_vals)-min(z_vals))/2) - 1\n",
    "            try:\n",
    "                # normalize image\n",
    "                img = np.divide(img,np.max(img))\n",
    "                img.reshape(input_size, input_size, 1)\n",
    "            except:\n",
    "                import pdb;pdb.set_trace()\n",
    "            inputs.append(img.reshape(input_size, input_size, 1))\n",
    "            targets.append(np.array([x_train, y_train, z_train]))\n",
    "        yield(np.array(inputs),np.array(targets))"
   ]
  },
  {
   "cell_type": "code",
   "execution_count": 14,
   "metadata": {},
   "outputs": [],
   "source": [
    "# Instantiate generators\n",
    "\n",
    "input_size = 64\n",
    "datagen = tile_generator(images, 32, input_size, .2)\n",
    "validationdatagen = tile_generator(validationimages, 32, input_size, .2)"
   ]
  },
  {
   "cell_type": "code",
   "execution_count": 15,
   "metadata": {},
   "outputs": [],
   "source": [
    "# compile model, based on https://www.pyimagesearch.com/2019/01/28/keras-regression-and-cnns/\n",
    "from keras.models import Sequential\n",
    "from keras.layers import *\n",
    "\n",
    "model = Sequential()\n",
    "\n",
    "model.add(Conv2D(16, kernel_size=(3, 3), activation='relu', input_shape=(input_size,input_size,1)))\n",
    "model.add(BatchNormalization(axis=-1))\n",
    "model.add(MaxPooling2D(pool_size=(2,2)))\n",
    "\n",
    "model.add(Conv2D(32, kernel_size=(3, 3), activation='relu'))\n",
    "model.add(BatchNormalization(axis=-1))\n",
    "model.add(MaxPooling2D(pool_size=(2,2)))\n",
    "\n",
    "model.add(Conv2D(64, kernel_size=(3, 3), activation='relu'))\n",
    "model.add(BatchNormalization(axis=-1))\n",
    "model.add(MaxPooling2D(pool_size=(2,2)))\n",
    "\n",
    "model.add(Flatten())\n",
    "model.add(Dense(16, activation='relu'))\n",
    "model.add(BatchNormalization(axis=-1))\n",
    "model.add(Dropout(.5))\n",
    "\n",
    "model.add(Dense(3, activation ='tanh'))\n",
    "\n",
    "model.compile(loss='mse',\n",
    "              optimizer='adadelta')"
   ]
  },
  {
   "cell_type": "code",
   "execution_count": 7,
   "metadata": {},
   "outputs": [
    {
     "name": "stdout",
     "output_type": "stream",
     "text": [
      "Model: \"sequential\"\n",
      "_________________________________________________________________\n",
      "Layer (type)                 Output Shape              Param #   \n",
      "=================================================================\n",
      "conv2d (Conv2D)              (None, 62, 62, 16)        160       \n",
      "_________________________________________________________________\n",
      "batch_normalization (BatchNo (None, 62, 62, 16)        64        \n",
      "_________________________________________________________________\n",
      "max_pooling2d (MaxPooling2D) (None, 31, 31, 16)        0         \n",
      "_________________________________________________________________\n",
      "conv2d_1 (Conv2D)            (None, 29, 29, 32)        4640      \n",
      "_________________________________________________________________\n",
      "batch_normalization_1 (Batch (None, 29, 29, 32)        128       \n",
      "_________________________________________________________________\n",
      "max_pooling2d_1 (MaxPooling2 (None, 14, 14, 32)        0         \n",
      "_________________________________________________________________\n",
      "conv2d_2 (Conv2D)            (None, 12, 12, 64)        18496     \n",
      "_________________________________________________________________\n",
      "batch_normalization_2 (Batch (None, 12, 12, 64)        256       \n",
      "_________________________________________________________________\n",
      "max_pooling2d_2 (MaxPooling2 (None, 6, 6, 64)          0         \n",
      "_________________________________________________________________\n",
      "flatten (Flatten)            (None, 2304)              0         \n",
      "_________________________________________________________________\n",
      "dense (Dense)                (None, 16)                36880     \n",
      "_________________________________________________________________\n",
      "batch_normalization_3 (Batch (None, 16)                64        \n",
      "_________________________________________________________________\n",
      "dropout (Dropout)            (None, 16)                0         \n",
      "_________________________________________________________________\n",
      "dense_1 (Dense)              (None, 3)                 51        \n",
      "=================================================================\n",
      "Total params: 60,739\n",
      "Trainable params: 60,483\n",
      "Non-trainable params: 256\n",
      "_________________________________________________________________\n"
     ]
    }
   ],
   "source": [
    "model.summary()"
   ]
  },
  {
   "cell_type": "code",
   "execution_count": 8,
   "metadata": {},
   "outputs": [
    {
     "ename": "NameError",
     "evalue": "name 'validationdatagen' is not defined",
     "output_type": "error",
     "traceback": [
      "\u001b[0;31m---------------------------------------------------------------------------\u001b[0m",
      "\u001b[0;31mNameError\u001b[0m                                 Traceback (most recent call last)",
      "\u001b[0;32m/var/folders/jm/v16vhtnj3y96ph2nqnf24gmw0000gn/T/ipykernel_14394/2818746364.py\u001b[0m in \u001b[0;36m<module>\u001b[0;34m\u001b[0m\n\u001b[1;32m      1\u001b[0m \u001b[0;31m# train and visualize loss\u001b[0m\u001b[0;34m\u001b[0m\u001b[0;34m\u001b[0m\u001b[0;34m\u001b[0m\u001b[0m\n\u001b[1;32m      2\u001b[0m \u001b[0;34m\u001b[0m\u001b[0m\n\u001b[0;32m----> 3\u001b[0;31m \u001b[0mhistory\u001b[0m \u001b[0;34m=\u001b[0m \u001b[0mmodel\u001b[0m\u001b[0;34m.\u001b[0m\u001b[0mfit_generator\u001b[0m\u001b[0;34m(\u001b[0m\u001b[0mdatagen\u001b[0m\u001b[0;34m,\u001b[0m\u001b[0mvalidation_data\u001b[0m\u001b[0;34m=\u001b[0m\u001b[0mvalidationdatagen\u001b[0m\u001b[0;34m,\u001b[0m \u001b[0mvalidation_steps\u001b[0m\u001b[0;34m=\u001b[0m\u001b[0;36m100\u001b[0m\u001b[0;34m,\u001b[0m\u001b[0msteps_per_epoch\u001b[0m\u001b[0;34m=\u001b[0m\u001b[0;36m100\u001b[0m\u001b[0;34m,\u001b[0m \u001b[0mepochs\u001b[0m\u001b[0;34m=\u001b[0m\u001b[0;36m50\u001b[0m\u001b[0;34m)\u001b[0m\u001b[0;34m\u001b[0m\u001b[0;34m\u001b[0m\u001b[0m\n\u001b[0m",
      "\u001b[0;31mNameError\u001b[0m: name 'validationdatagen' is not defined"
     ]
    }
   ],
   "source": [
    "# train and visualize loss\n",
    "\n",
    "history = model.fit_generator(datagen,validation_data=validationdatagen, validation_steps=100,steps_per_epoch=100, epochs=50)"
   ]
  },
  {
   "cell_type": "code",
   "execution_count": null,
   "metadata": {},
   "outputs": [],
   "source": [
    "# Plot training & validation loss values\n",
    "plt.plot(history.history['loss'])\n",
    "plt.plot(history.history['val_loss'])\n",
    "plt.title('Model loss')\n",
    "plt.ylabel('Loss')\n",
    "plt.xlabel('Epoch')\n",
    "plt.legend(['Train', 'Validation'], loc='upper left')\n",
    "plt.show()"
   ]
  },
  {
   "cell_type": "code",
   "execution_count": 16,
   "metadata": {},
   "outputs": [
    {
     "ename": "IndexError",
     "evalue": "Cannot choose from an empty sequence",
     "output_type": "error",
     "traceback": [
      "\u001b[0;31m---------------------------------------------------------------------------\u001b[0m",
      "\u001b[0;31mIndexError\u001b[0m                                Traceback (most recent call last)",
      "\u001b[0;32m/var/folders/jm/v16vhtnj3y96ph2nqnf24gmw0000gn/T/ipykernel_14394/1823897202.py\u001b[0m in \u001b[0;36m<module>\u001b[0;34m\u001b[0m\n\u001b[1;32m      2\u001b[0m \u001b[0;32mimport\u001b[0m \u001b[0mcsv\u001b[0m\u001b[0;34m\u001b[0m\u001b[0;34m\u001b[0m\u001b[0m\n\u001b[1;32m      3\u001b[0m \u001b[0;34m\u001b[0m\u001b[0m\n\u001b[0;32m----> 4\u001b[0;31m \u001b[0mstack\u001b[0m \u001b[0;34m=\u001b[0m \u001b[0mrandom\u001b[0m\u001b[0;34m.\u001b[0m\u001b[0mchoice\u001b[0m\u001b[0;34m(\u001b[0m\u001b[0mvalidationimages\u001b[0m\u001b[0;34m)\u001b[0m\u001b[0;34m\u001b[0m\u001b[0;34m\u001b[0m\u001b[0m\n\u001b[0m\u001b[1;32m      5\u001b[0m \u001b[0mn_spots\u001b[0m \u001b[0;34m=\u001b[0m \u001b[0mlen\u001b[0m\u001b[0;34m(\u001b[0m\u001b[0mstack\u001b[0m\u001b[0;34m[\u001b[0m\u001b[0;36m0\u001b[0m\u001b[0;34m]\u001b[0m\u001b[0;34m[\u001b[0m\u001b[0;34m'XY'\u001b[0m\u001b[0;34m]\u001b[0m\u001b[0;34m)\u001b[0m\u001b[0;34m\u001b[0m\u001b[0;34m\u001b[0m\u001b[0m\n\u001b[1;32m      6\u001b[0m \u001b[0mn_depths\u001b[0m \u001b[0;34m=\u001b[0m \u001b[0mlen\u001b[0m\u001b[0;34m(\u001b[0m\u001b[0mstack\u001b[0m\u001b[0;34m[\u001b[0m\u001b[0;36m0\u001b[0m\u001b[0;34m]\u001b[0m\u001b[0;34m[\u001b[0m\u001b[0;34m'Z'\u001b[0m\u001b[0;34m]\u001b[0m\u001b[0;34m)\u001b[0m\u001b[0;34m\u001b[0m\u001b[0;34m\u001b[0m\u001b[0m\n",
      "\u001b[0;32m/Library/Developer/CommandLineTools/Library/Frameworks/Python3.framework/Versions/3.8/lib/python3.8/random.py\u001b[0m in \u001b[0;36mchoice\u001b[0;34m(self, seq)\u001b[0m\n\u001b[1;32m    288\u001b[0m             \u001b[0mi\u001b[0m \u001b[0;34m=\u001b[0m \u001b[0mself\u001b[0m\u001b[0;34m.\u001b[0m\u001b[0m_randbelow\u001b[0m\u001b[0;34m(\u001b[0m\u001b[0mlen\u001b[0m\u001b[0;34m(\u001b[0m\u001b[0mseq\u001b[0m\u001b[0;34m)\u001b[0m\u001b[0;34m)\u001b[0m\u001b[0;34m\u001b[0m\u001b[0;34m\u001b[0m\u001b[0m\n\u001b[1;32m    289\u001b[0m         \u001b[0;32mexcept\u001b[0m \u001b[0mValueError\u001b[0m\u001b[0;34m:\u001b[0m\u001b[0;34m\u001b[0m\u001b[0;34m\u001b[0m\u001b[0m\n\u001b[0;32m--> 290\u001b[0;31m             \u001b[0;32mraise\u001b[0m \u001b[0mIndexError\u001b[0m\u001b[0;34m(\u001b[0m\u001b[0;34m'Cannot choose from an empty sequence'\u001b[0m\u001b[0;34m)\u001b[0m \u001b[0;32mfrom\u001b[0m \u001b[0;32mNone\u001b[0m\u001b[0;34m\u001b[0m\u001b[0;34m\u001b[0m\u001b[0m\n\u001b[0m\u001b[1;32m    291\u001b[0m         \u001b[0;32mreturn\u001b[0m \u001b[0mseq\u001b[0m\u001b[0;34m[\u001b[0m\u001b[0mi\u001b[0m\u001b[0;34m]\u001b[0m\u001b[0;34m\u001b[0m\u001b[0;34m\u001b[0m\u001b[0m\n\u001b[1;32m    292\u001b[0m \u001b[0;34m\u001b[0m\u001b[0m\n",
      "\u001b[0;31mIndexError\u001b[0m: Cannot choose from an empty sequence"
     ]
    }
   ],
   "source": [
    "# show predictions and write results\n",
    "import csv\n",
    "\n",
    "stack = random.choice(validationimages)\n",
    "n_spots = len(stack[0]['XY'])\n",
    "n_depths = len(stack[0]['Z'])\n",
    "\n",
    "testdatagen = tile_generator(validationimages, n_spots*n_depths, input_size, 0, False)\n",
    "#testdatagen = tile_generator(validationimages, 50, input_size, 0, True)\n",
    "\n",
    "\n",
    "\n",
    "batch = next(testdatagen)\n",
    "\n",
    "print('Predicting ' + str(len(batch[0])) + \" images...\")\n",
    "\n",
    "cumulative_error = 0\n",
    "\n",
    "plot = False\n",
    "\n",
    "%matplotlib inline\n",
    "\n",
    "with open('res.csv', 'w', newline='') as csvfile:\n",
    "    \n",
    "    # Instantiate writer and write row names\n",
    "    reswriter = csv.writer(csvfile)\n",
    "    reswriter.writerow(['x_train', 'y_train', 'z_train', \\\n",
    "                        'x_pred', 'y_pred','z_pred'])\n",
    "    \n",
    "    for samplenum in range(len(batch[0])):\n",
    "\n",
    "        predictions = model.predict_on_batch(batch[0])\n",
    "\n",
    "        img = batch[0][samplenum][:,:,0]\n",
    "        x_train, y_train, z = batch[1][samplenum]\n",
    "        x_pred, y_pred, z_pred = predictions[samplenum]\n",
    "\n",
    "        z_vals = [float(v) for v in list(images[0][0]['Z'].values())]\n",
    "        z,z_pred = [(d + 1) * ((max(z_vals)-min(z_vals))/2) + min(z_vals) for d in [z,z_pred]]\n",
    "        \n",
    "        cumulative_error += abs(z-z_pred)\n",
    "        \n",
    "        # Write row to CSV\n",
    "        reswriter.writerow([x_train, y_train, z, \\\n",
    "                           x_pred, y_pred, z_pred])\n",
    "        \n",
    "        \n",
    "\n",
    "        print(\"target z:\" + str(z) + '\\npredicted z:' + str(z_pred))\n",
    "\n",
    "        if plot:\n",
    "            plt.figure()\n",
    "            plt.imshow(img)\n",
    "            plt.plot(input_size*x_train, input_size*y_train, 'bo')\n",
    "            plt.plot(input_size*x_pred, input_size*y_pred, 'rX')\n",
    "            plt.axis('off')\n",
    "            plt.show()\n",
    "\n",
    "avg_error = cumulative_error/len(batch[0])\n",
    "print(\"Average error in z: {}\".format(avg_error))"
   ]
  },
  {
   "cell_type": "code",
   "execution_count": 19,
   "metadata": {},
   "outputs": [],
   "source": [
    "import tensorflow as tf"
   ]
  },
  {
   "cell_type": "code",
   "execution_count": 20,
   "metadata": {},
   "outputs": [
    {
     "name": "stdout",
     "output_type": "stream",
     "text": [
      "2.6.0\n"
     ]
    }
   ],
   "source": [
    "print(tf.__version__)"
   ]
  },
  {
   "cell_type": "code",
   "execution_count": 22,
   "metadata": {},
   "outputs": [
    {
     "ename": "SyntaxError",
     "evalue": "invalid syntax (4015035833.py, line 2)",
     "output_type": "error",
     "traceback": [
      "\u001b[0;36m  File \u001b[0;32m\"/var/folders/jm/v16vhtnj3y96ph2nqnf24gmw0000gn/T/ipykernel_14394/4015035833.py\"\u001b[0;36m, line \u001b[0;32m2\u001b[0m\n\u001b[0;31m    for ftf\u001b[0m\n\u001b[0m            ^\u001b[0m\n\u001b[0;31mSyntaxError\u001b[0m\u001b[0;31m:\u001b[0m invalid syntax\n"
     ]
    }
   ],
   "source": [
    "import fractaltf as ftf\n",
    "for ftf \n",
    "    let (x -> pointercommand)\n",
    "        if pointercommand > 0\n",
    "            end\n",
    "    stack = random.choice{[validate(pointercommand)]}\n",
    "        random x ==> [0,y(a)]\n",
    "    tf = random(tensor.optimizer[0.1, 1.5]\n",
    "                x = tf(ftf)(i = self.randbelow(lens(seq)))"
   ]
  },
  {
   "cell_type": "code",
   "execution_count": null,
   "metadata": {},
   "outputs": [],
   "source": []
  }
 ],
 "metadata": {
  "kernelspec": {
   "display_name": "Python 3 (ipykernel)",
   "language": "python",
   "name": "python3"
  },
  "language_info": {
   "codemirror_mode": {
    "name": "ipython",
    "version": 3
   },
   "file_extension": ".py",
   "mimetype": "text/x-python",
   "name": "python",
   "nbconvert_exporter": "python",
   "pygments_lexer": "ipython3",
   "version": "3.8.2"
  }
 },
 "nbformat": 4,
 "nbformat_minor": 4
}
